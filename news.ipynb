{
  "nbformat": 4,
  "nbformat_minor": 0,
  "metadata": {
    "colab": {
      "provenance": [],
      "authorship_tag": "ABX9TyOd+mPqvM06BH9ocBfn/aCn",
      "include_colab_link": true
    },
    "kernelspec": {
      "name": "python3",
      "display_name": "Python 3"
    },
    "language_info": {
      "name": "python"
    }
  },
  "cells": [
    {
      "cell_type": "markdown",
      "metadata": {
        "id": "view-in-github",
        "colab_type": "text"
      },
      "source": [
        "<a href=\"https://colab.research.google.com/github/ankris812/bashblog/blob/master/news.ipynb\" target=\"_parent\"><img src=\"https://colab.research.google.com/assets/colab-badge.svg\" alt=\"Open In Colab\"/></a>"
      ]
    },
    {
      "cell_type": "code",
      "source": [
        "!pip install transformers torch\n"
      ],
      "metadata": {
        "id": "kEuBEoK_Gv-7"
      },
      "execution_count": null,
      "outputs": []
    },
    {
      "cell_type": "code",
      "source": [
        "import os\n",
        "from datetime import datetime\n",
        "from transformers import GPTNeoForCausalLM, GPT2Tokenizer\n",
        "\n",
        "# Cargar el modelo GPT-Neo 1.3B y el tokenizador\n",
        "model_name = \"EleutherAI/gpt-neo-1.3B\"\n",
        "model = GPTNeoForCausalLM.from_pretrained(model_name)\n",
        "tokenizer = GPT2Tokenizer.from_pretrained(model_name)\n",
        "\n",
        "# Función para generar un artículo basado en un tema y devolverlo en formato Markdown\n",
        "def generar_articulo_en_markdown(tema):\n",
        "    # Tokenizamos el tema de entrada\n",
        "    inputs = tokenizer(tema, return_tensors=\"pt\")\n",
        "    # Generamos el texto (artículo)\n",
        "    outputs = model.generate(inputs[\"input_ids\"], max_length=500, num_return_sequences=1, no_repeat_ngram_size=2)\n",
        "    # Decodificamos el texto generado\n",
        "    articulo = tokenizer.decode(outputs[0], skip_special_tokens=True)\n",
        "\n",
        "    # Convertimos el artículo a formato Markdown\n",
        "    markdown_articulo = f\"# Artículo sobre: {tema}\\n\\n\"\n",
        "    markdown_articulo += f\"**Introducción**\\n\\n\"\n",
        "    markdown_articulo += f\"El siguiente artículo aborda el tema de **{tema}**. A continuación, se presentan detalles clave sobre el tema.\\n\\n\"\n",
        "    markdown_articulo += f\"**Contenido**\\n\\n\"\n",
        "    markdown_articulo += f\"{articulo}\\n\\n\"\n",
        "    markdown_articulo += f\"**Conclusión**\\n\\n\"\n",
        "    markdown_articulo += f\"Este artículo proporciona una visión general del tema de **{tema}** y resalta algunos de los aspectos más importantes y actuales.\\n\"\n",
        "\n",
        "    return markdown_articulo\n",
        "\n",
        "# Función para guardar el artículo en un archivo Markdown\n",
        "def guardar_articulo_markdown(tema, articulo_markdown):\n",
        "    # Crear la carpeta 'markdown' si no existe\n",
        "    if not os.path.exists('markdown'):\n",
        "        os.makedirs('markdown')\n",
        "\n",
        "    # Obtener la fecha actual en formato YYYY-MM-DD\n",
        "    fecha = datetime.now().strftime(\"%Y-%m-%d\")\n",
        "\n",
        "    # Limpiar el tema para usarlo como parte del nombre del archivo (sin espacios ni caracteres especiales)\n",
        "    titulo_limpio = tema.replace(\" \", \"-\").replace(\",\", \"\").replace(\".\", \"\")\n",
        "\n",
        "    # Crear el nombre del archivo con formato 'titulo-fecha.md'\n",
        "    nombre_archivo = f\"markdown/{titulo_limpio}-{fecha}.md\"\n",
        "\n",
        "    # Guardar el contenido en el archivo Markdown\n",
        "    with open(nombre_archivo, 'w') as f:\n",
        "        f.write(articulo_markdown)\n",
        "\n",
        "    print(f\"Artículo guardado en: {nombre_archivo}\")\n",
        "\n",
        "# Ejemplo de uso\n",
        "tema = \"que es nethunter y que puede hacer\"\n",
        "articulo_markdown = generar_articulo_en_markdown(tema)\n",
        "guardar_articulo_markdown(tema, articulo_markdown)\n"
      ],
      "metadata": {
        "id": "3wRtMC0tG1Ka"
      },
      "execution_count": null,
      "outputs": []
    }
  ]
}